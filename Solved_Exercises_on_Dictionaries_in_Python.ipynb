{
  "cells": [
    {
      "cell_type": "markdown",
      "id": "038cc9b5",
      "metadata": {
        "id": "038cc9b5"
      },
      "source": [
        "## Solved Exercises on Dictionaries in Python"
      ]
    },
    {
      "cell_type": "code",
      "execution_count": null,
      "id": "5c6caf84",
      "metadata": {
        "id": "5c6caf84"
      },
      "outputs": [],
      "source": [
        "dictionary = {\n",
        "    \"name\" : \"muhammad hamza usman\",\n",
        "    \"age\" : 18,\n",
        "    \"city\" : \"Lahore\",\n",
        "    \"Hobbies\" : \"Coding\"\n",
        "}"
      ]
    },
    {
      "cell_type": "code",
      "execution_count": null,
      "id": "3fb7ba43",
      "metadata": {
        "colab": {
          "base_uri": "https://localhost:8080/"
        },
        "id": "3fb7ba43",
        "outputId": "8ed1cab2-a88f-41ff-9a70-9dd0526c7920"
      },
      "outputs": [
        {
          "output_type": "stream",
          "name": "stdout",
          "text": [
            "{'a': 2, 'the': 1, 'given': 1, 'words': 1, 'to': 1, 'frequency': 1, 'program': 1, 'count': 1, 'of': 1, 'in': 1, 'Write': 1}\n"
          ]
        }
      ],
      "source": [
        "text = \"Write a program to count the frequency of words in a given text.\"\n",
        "string = \"\"\n",
        "words = []\n",
        "frequency_of_words = {}\n",
        "for char in text :\n",
        "    if not char == \" \" :\n",
        "        string += char\n",
        "    elif char == \" \" :\n",
        "        words.append(string)\n",
        "        string = \"\"\n",
        "unique_words = set(words)\n",
        "for word in unique_words :\n",
        "    frequency_of_words[word] = words.count(word)\n",
        "print(frequency_of_words)"
      ]
    },
    {
      "cell_type": "code",
      "execution_count": null,
      "id": "2013edeb",
      "metadata": {
        "colab": {
          "base_uri": "https://localhost:8080/"
        },
        "id": "2013edeb",
        "outputId": "74211bf6-0648-400b-8c58-0c31636b6f50"
      },
      "outputs": [
        {
          "output_type": "stream",
          "name": "stdout",
          "text": [
            "Store: S\n",
            "Quit: Q\n",
            "Enter Product Name: cars\n",
            "Enter number of units: 100\n",
            "Enter S/Q:S\n",
            "Enter Product Name: Tanks\n",
            "Enter number of units: 12\n",
            "Enter S/Q:500000\n",
            "Enter Product Name: Q\n",
            "Enter number of units: 11\n",
            "Enter S/Q:Q\n",
            "{'cars': 100, 'Tanks': 12, 'Q': 11}\n"
          ]
        }
      ],
      "source": [
        "Inventory = {}\n",
        "print(\"Store: S\\nQuit: Q\")\n",
        "while True :\n",
        "    product = input(\"Enter Product Name: \")\n",
        "    units = int(input(\"Enter number of units: \"))\n",
        "    option = input(\"Enter S/Q:\").lower()\n",
        "    Inventory[product] = units\n",
        "    if option == \"q\" :\n",
        "        break\n",
        "print(Inventory)"
      ]
    },
    {
      "cell_type": "code",
      "execution_count": null,
      "id": "3fd24ab5",
      "metadata": {
        "colab": {
          "base_uri": "https://localhost:8080/"
        },
        "id": "3fd24ab5",
        "outputId": "d21f8c95-35d9-4ba7-f816-c3cd57b6d39d"
      },
      "outputs": [
        {
          "output_type": "stream",
          "name": "stdout",
          "text": [
            "Trucks is one of most popular with 2100 units\n"
          ]
        }
      ],
      "source": [
        "customer_orders = {\n",
        "    \"cars\" : 1000,\n",
        "    \"trains\" : 200,\n",
        "    \"planes\" : 900,\n",
        "    \"trucks\" : 2100,\n",
        "    \"tanks\" : 400,\n",
        "    \"Armored Transfer\" : 100\n",
        "}\n",
        "Max = max(customer_orders.values())\n",
        "for category, units in customer_orders.items() :\n",
        "    if units == Max :\n",
        "        print(f\"{category.title()} is one of most popular with {units} units\")"
      ]
    },
    {
      "cell_type": "code",
      "execution_count": null,
      "id": "38c83fd3",
      "metadata": {
        "colab": {
          "base_uri": "https://localhost:8080/"
        },
        "id": "38c83fd3",
        "outputId": "7d95f892-ee2d-4994-ab98-987140bd5723"
      },
      "outputs": [
        {
          "output_type": "stream",
          "name": "stdout",
          "text": [
            "Average: 92.0\n"
          ]
        }
      ],
      "source": [
        "student_grades = {\n",
        "    \"English\" : 88,\n",
        "    \"Urdu\" : 75,\n",
        "    \"Math\" : 92,\n",
        "    \"Phyiscs\"  : 95,\n",
        "    \"Computer\" : 99,\n",
        "    \"Tarjma tul Quran\" : 96,\n",
        "    \"Pak Studies\" : 99\n",
        "}\n",
        "print(f\"Average: {sum(student_grades.values()) / (len(student_grades))}\")"
      ]
    },
    {
      "cell_type": "code",
      "execution_count": null,
      "id": "4ea14ea0",
      "metadata": {
        "colab": {
          "base_uri": "https://localhost:8080/"
        },
        "id": "4ea14ea0",
        "outputId": "33b56139-a6b3-41f7-d562-bf92a8d6e215"
      },
      "outputs": [
        {
          "output_type": "stream",
          "name": "stdout",
          "text": [
            "Continue: C\n",
            "Quit: Q\n",
            "Enter name:cars\n",
            "Enter Units:100\n",
            "Enter Price Per Unit:12\n",
            "Enter name:tanks\n",
            "Enter Units:6\n",
            "Enter Price Per Unit:1200\n",
            "Enter name:q\n",
            "Update Product Quantities\n",
            "Skip: S\n",
            "Cars: s\n",
            "Tanks: \n",
            "Enter tanks units: 5\n",
            "Valuation: 8400\n",
            "Tanks has low stock\n"
          ]
        }
      ],
      "source": [
        "Inventory = {}\n",
        "low_stock = 10\n",
        "print(\"Continue: C\\nQuit: Q\")\n",
        "information = [\"units\", \"price per unit\", \"price\"]\n",
        "\n",
        "while True :\n",
        "    name = input(\"Enter name:\").lower()\n",
        "    if name == \"q\" :\n",
        "      break\n",
        "    temp_dict = {}\n",
        "    for info in information :\n",
        "        if not info == \"price\" :\n",
        "            temp_var = int(input(f\"Enter {info.title()}:\"))\n",
        "            temp_dict[f\"{info}\"] = temp_var\n",
        "        else :\n",
        "            temp_dict[\"price\"] = temp_dict[\"units\"] * temp_dict[\"price per unit\"]\n",
        "        Inventory[name] = temp_dict\n",
        "\n",
        "print(\"Update Product Quantities\\nSkip: S\")\n",
        "for category in Inventory.keys() :\n",
        "    if not input(f\"{category.title()}: \").lower() == \"s\" :\n",
        "        Inventory[category][\"units\"] = input(f\"Enter {category} units: \")\n",
        "\n",
        "value = 0\n",
        "for info in Inventory.values() :\n",
        "    value += info[\"price\"]\n",
        "print(f\"Valuation: {value}\")\n",
        "\n",
        "for name, info in Inventory.items() :\n",
        "    if int(info[\"units\"]) <= low_stock :\n",
        "        print(f\"{name.title()} has low stock\")"
      ]
    },
    {
      "cell_type": "code",
      "execution_count": 20,
      "id": "4da80fb9",
      "metadata": {
        "colab": {
          "base_uri": "https://localhost:8080/"
        },
        "id": "4da80fb9",
        "outputId": "4b0aa3dc-4ec7-4acc-fcc3-9ae449d3d6ce"
      },
      "outputs": [
        {
          "output_type": "stream",
          "name": "stdout",
          "text": [
            "Continue: C\n",
            "Quit: Q\n",
            "Enter Student Name: hamza\n",
            "Enter English: 88\n",
            "Enter Urdu: 80\n",
            "Enter Math: 92\n",
            "Enter Phyiscs: 95\n",
            "Enter Computer: 96\n",
            "Enter Tarjma Tul Quran: 97\n",
            "Enter Pak Studies: 98\n",
            "Enter Student Name: mughni\n",
            "Enter English: 90\n",
            "Enter Urdu: 86\n",
            "Enter Math: 90\n",
            "Enter Phyiscs: 96\n",
            "Enter Computer: 97\n",
            "Enter Tarjma Tul Quran: 98\n",
            "Enter Pak Studies: 90\n",
            "Enter Student Name: q\n",
            "Average\n",
            "Hamza: 92.28571428571429\n",
            "Mughni: 92.42857142857143\n",
            "English:\n",
            "\tHighest: 90\n",
            "\tLowest: 88\n",
            "Urdu:\n",
            "\tHighest: 86\n",
            "\tLowest: 80\n",
            "Math:\n",
            "\tHighest: 92\n",
            "\tLowest: 90\n",
            "Phyiscs:\n",
            "\tHighest: 96\n",
            "\tLowest: 95\n",
            "Computer:\n",
            "\tHighest: 97\n",
            "\tLowest: 96\n",
            "Tarjma Tul Quran:\n",
            "\tHighest: 98\n",
            "\tLowest: 97\n",
            "Pak Studies:\n",
            "\tHighest: 98\n",
            "\tLowest: 90\n",
            "Mughni: 92.42857142857143\n",
            "Hamza: 92.28571428571429\n"
          ]
        }
      ],
      "source": [
        "student_grades = {}\n",
        "average_grades = {}\n",
        "subjects_grades = {}\n",
        "subjects = (\"English\", \"Urdu\", \"Math\", \"Phyiscs\", \"Computer\", \"Tarjma tul Quran\", \"Pak Studies\")\n",
        "print(\"Continue: C\\nQuit: Q\")\n",
        "for i in subjects :\n",
        "    subjects_grades[i] = []\n",
        "while True :\n",
        "    name = input(\"Enter Student Name: \").lower()\n",
        "    if name == \"q\" :\n",
        "        break\n",
        "    temp_dictionary = {}\n",
        "    for subject in subjects :\n",
        "        temp_var = int(input(f\"Enter {subject.title()}: \"))\n",
        "        temp_dictionary[subject] = temp_var\n",
        "        subjects_grades[subject].append(temp_var)\n",
        "    student_grades[name] = temp_dictionary\n",
        "    average_grades[name] = sum(student_grades[name].values()) / (len(student_grades[name]))\n",
        "\n",
        "print(\"Average\")\n",
        "for student, average in average_grades.items() :\n",
        "    print(f\"{student.title()}: {average}\")\n",
        "\n",
        "for subject, grades in subjects_grades.items() :\n",
        "    print(f\"{subject.title()}:\\n\\tHighest: {max(grades)}\\n\\tLowest: {min(grades)}\")\n",
        "for avr in sorted(average_grades.values(), reverse= True) :\n",
        "    for name in average_grades :\n",
        "        if average_grades[name] == avr :\n",
        "          print(f\"{name.title()}: {avr}\")"
      ]
    },
    {
      "cell_type": "code",
      "source": [
        "products = {\n",
        "    \"laptop\": {\"price\": 999.99, \"quantity\": 10},\n",
        "    \"headphones\": {\"price\": 199.99, \"quantity\": 50},\n",
        "    \"smartphone\": {\"price\": 699.99, \"quantity\": 30},\n",
        "    \"keyboard\": {\"price\": 49.99, \"quantity\": 100},\n",
        "    \"chair\": {\"price\": 89.99, \"quantity\": 25},\n",
        "    \"desk\": {\"price\": 149.99, \"quantity\": 15},\n",
        "    \"table lamp\": {\"price\": 29.99, \"quantity\": 60},\n",
        "    \"coffee mug\": {\"price\": 12.99, \"quantity\": 200},\n",
        "    \"backpack\": {\"price\": 39.99, \"quantity\": 80},\n",
        "    \"notebook\": {\"price\": 3.99, \"quantity\": 500},\n",
        "    \"pen\": {\"price\": 1.49, \"quantity\": 1000},\n",
        "    \"monitor\": {\"price\": 249.99, \"quantity\": 20},\n",
        "    \"printer\": {\"price\": 129.99, \"quantity\": 10},\n",
        "    \"wireless mouse\": {\"price\": 19.99, \"quantity\": 150},\n",
        "    \"bluetooth speaker\": {\"price\": 59.99, \"quantity\": 40}\n",
        "}\n",
        "cart = {}\n",
        "total_price = 0\n",
        "discount = 5\n",
        "tax = 3\n",
        "\n",
        "for name, details in products.items() :\n",
        "    print(f\"{name.title()}\\n\\tPrice: {details['price']}\\n\\tQuantity: {details['quantity']}\")\n",
        "\n",
        "print(\"What you want to buy\\nAdd: A\\nRemove: R\\nQuit : Q\")\n",
        "while True :\n",
        "    name = input(\"Enter Product Name: \").lower()\n",
        "    option = input(\"Enter Option: \").lower()\n",
        "    if option == \"r\" :\n",
        "        del cart[name]\n",
        "    elif option == \"q\" :\n",
        "        break\n",
        "    else :\n",
        "        units = int(input(\"Enter units : \"))\n",
        "        cart[name] = units\n",
        "\n",
        "for name, units in cart.items() :\n",
        "    total_price += products[name][\"price\"] * units\n",
        "print(f\"Total Price: {total_price}\")\n",
        "print(f\"Discount: {total_price * (discount / 100)}\\nTax: {total_price * (tax / 100)}\\nFinal Price: {(total_price - total_price * (discount / 100)) + (total_price * (tax / 100))}\")\n",
        "\n",
        "\n",
        "\n",
        "\n"
      ],
      "metadata": {
        "colab": {
          "base_uri": "https://localhost:8080/"
        },
        "id": "aiNJ1PI3vw9m",
        "outputId": "3307a29e-28e4-4549-856f-46ede3a26c32"
      },
      "id": "aiNJ1PI3vw9m",
      "execution_count": 24,
      "outputs": [
        {
          "output_type": "stream",
          "name": "stdout",
          "text": [
            "Laptop\n",
            "\tPrice: 999.99\n",
            "\tQuantity: 10\n",
            "Headphones\n",
            "\tPrice: 199.99\n",
            "\tQuantity: 50\n",
            "Smartphone\n",
            "\tPrice: 699.99\n",
            "\tQuantity: 30\n",
            "Keyboard\n",
            "\tPrice: 49.99\n",
            "\tQuantity: 100\n",
            "Chair\n",
            "\tPrice: 89.99\n",
            "\tQuantity: 25\n",
            "Desk\n",
            "\tPrice: 149.99\n",
            "\tQuantity: 15\n",
            "Table Lamp\n",
            "\tPrice: 29.99\n",
            "\tQuantity: 60\n",
            "Coffee Mug\n",
            "\tPrice: 12.99\n",
            "\tQuantity: 200\n",
            "Backpack\n",
            "\tPrice: 39.99\n",
            "\tQuantity: 80\n",
            "Notebook\n",
            "\tPrice: 3.99\n",
            "\tQuantity: 500\n",
            "Pen\n",
            "\tPrice: 1.49\n",
            "\tQuantity: 1000\n",
            "Monitor\n",
            "\tPrice: 249.99\n",
            "\tQuantity: 20\n",
            "Printer\n",
            "\tPrice: 129.99\n",
            "\tQuantity: 10\n",
            "Wireless Mouse\n",
            "\tPrice: 19.99\n",
            "\tQuantity: 150\n",
            "Bluetooth Speaker\n",
            "\tPrice: 59.99\n",
            "\tQuantity: 40\n",
            "What you want to buy\n",
            "Add: A\n",
            "Remove: R\n",
            "Quit : Q\n",
            "Enter Product Name: pen\n",
            "Enter Option: a\n",
            "Enter units : 2\n",
            "Enter Product Name: laptop\n",
            "Enter Option: a\n",
            "Enter units : 1\n",
            "Enter Product Name: pen\n",
            "Enter Option: r\n",
            "Enter Product Name: monitor\n",
            "Enter Option: a\n",
            "Enter units : 1\n",
            "Enter Product Name: q\n",
            "Enter Option: q\n",
            "Total Price: 1249.98\n",
            "Discount: 62.499\n",
            "Tax: 37.4994\n",
            "Final Price: 1224.9804\n"
          ]
        }
      ]
    }
  ],
  "metadata": {
    "kernelspec": {
      "display_name": "Python 3 (ipykernel)",
      "language": "python",
      "name": "python3"
    },
    "language_info": {
      "codemirror_mode": {
        "name": "ipython",
        "version": 3
      },
      "file_extension": ".py",
      "mimetype": "text/x-python",
      "name": "python",
      "nbconvert_exporter": "python",
      "pygments_lexer": "ipython3",
      "version": "3.11.5"
    },
    "colab": {
      "provenance": []
    }
  },
  "nbformat": 4,
  "nbformat_minor": 5
}